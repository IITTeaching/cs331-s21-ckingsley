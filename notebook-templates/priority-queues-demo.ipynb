{
 "cells": [
  {
   "cell_type": "markdown",
   "metadata": {
    "collapsed": false
   },
   "source": [
    "Priority Queues\n",
    "===============\n",
    "\n"
   ]
  },
  {
   "cell_type": "markdown",
   "metadata": {
    "collapsed": false
   },
   "source": [
    "## Agenda\n",
    "\n"
   ]
  },
  {
   "cell_type": "markdown",
   "metadata": {
    "collapsed": false
   },
   "source": [
    "1.  Motives\n",
    "    - priority queue: stores number (or items that have a value)\n",
    "    - add(item): insert item into the queue\n",
    "    - pop_max() - return and remove item with maximum value\n",
    "    - \n",
    "2.  Naive implementation\n",
    "3.  Heaps\n",
    "    -   Mechanics\n",
    "    -   Implementation\n",
    "    -   Run-time Analysis\n",
    "\n",
    "4.  Heapsort\n",
    "\n"
   ]
  },
  {
   "cell_type": "markdown",
   "metadata": {
    "collapsed": false
   },
   "source": [
    "## 1.  Motives\n",
    "\n"
   ]
  },
  {
   "cell_type": "markdown",
   "metadata": {
    "collapsed": false
   },
   "source": [
    "## 1.  Naive implementation\n",
    "\n"
   ]
  },
  {
   "cell_type": "code",
   "execution_count": 1,
   "metadata": {
    "collapsed": false
   },
   "outputs": [],
   "source": [
    "class PriorityQueue:\n",
    "    def __init__(self):\n",
    "        self.data = []\n",
    "\n",
    "    def add(self, x):\n",
    "        self.data.append(x)\n",
    "        self.data = sorted(self.data)\n",
    "\n",
    "    def max(self):\n",
    "        return self.data[-1]\n",
    "\n",
    "    def pop_max(self):\n",
    "        m = self.data[-1]\n",
    "        del self.data[-1]\n",
    "        return m\n",
    "\n",
    "    def __bool__(self):\n",
    "        return len(self.data) > 0\n",
    "\n",
    "    def __len__(self):\n",
    "        return len(self.data)\n",
    "\n",
    "    def __repr__(self):\n",
    "        return repr(self.data)"
   ]
  },
  {
   "cell_type": "code",
   "execution_count": 2,
   "metadata": {
    "collapsed": false
   },
   "outputs": [],
   "source": [
    "pq = PriorityQueue()"
   ]
  },
  {
   "cell_type": "code",
   "execution_count": 3,
   "metadata": {
    "collapsed": false
   },
   "outputs": [],
   "source": [
    "import random\n",
    "for _ in range(10):\n",
    "    pq.add(random.randrange(100))"
   ]
  },
  {
   "cell_type": "code",
   "execution_count": 4,
   "metadata": {
    "collapsed": false
   },
   "outputs": [
    {
     "output_type": "execute_result",
     "data": {
      "text/plain": [
       "[8, 11, 27, 47, 72, 72, 82, 82, 97, 99]"
      ]
     },
     "metadata": {},
     "execution_count": 4
    }
   ],
   "source": [
    "pq"
   ]
  },
  {
   "cell_type": "code",
   "execution_count": 5,
   "metadata": {
    "collapsed": false
   },
   "outputs": [
    {
     "output_type": "stream",
     "name": "stdout",
     "text": [
      "99\n97\n82\n82\n72\n72\n47\n27\n11\n8\n"
     ]
    }
   ],
   "source": [
    "while pq:\n",
    "    print(pq.pop_max())"
   ]
  },
  {
   "cell_type": "markdown",
   "metadata": {
    "collapsed": false
   },
   "source": [
    "## 1.  Heaps\n",
    "\n"
   ]
  },
  {
   "cell_type": "markdown",
   "metadata": {
    "collapsed": false
   },
   "source": [
    "### Mechanics\n",
    "\n"
   ]
  },
  {
   "cell_type": "markdown",
   "metadata": {
    "collapsed": false
   },
   "source": [
    "### Implementation\n",
    "\n"
   ]
  },
  {
   "cell_type": "code",
   "execution_count": 20,
   "metadata": {
    "collapsed": false
   },
   "outputs": [],
   "source": [
    "class Heap:\n",
    "    def __init__(self):\n",
    "        self.data = []\n",
    "\n",
    "    @staticmethod\n",
    "    def parent(n):\n",
    "        if n % 2 == 0: ##even\n",
    "            return (n-2) // 2\n",
    "        return (n-1) // 2\n",
    "\n",
    "    @staticmethod\n",
    "    def left_child(n):\n",
    "        return 2*n + 1\n",
    "\n",
    "    @staticmethod\n",
    "    def right_child(n):\n",
    "        return 2*n + 2\n",
    "    \n",
    "    \n",
    "    def pos_exists(self, n):\n",
    "        return n >= len(self) #shouldn't this be \"<\" ???\n",
    " \n",
    "    def switch_node(self, parent, child):\n",
    "        parentval = self.data[parent]\n",
    "        childval = self.data[child]\n",
    "        self.data[parent] = childval\n",
    "        self.data[child] = parentval\n",
    "    \n",
    "    def trickle_down(self, n):\n",
    "        lc = Heap.left_child(n)\n",
    "        rc = Heap.right_child(n)\n",
    "        curval = self.data[n]\n",
    "        if self.pos_exists(lc): \n",
    "            if self.pos_exists(rc):\n",
    "                lcval = self.data[lc]\n",
    "                rcval = self.data[rc]\n",
    "                \n",
    "                if lcval > curval or rcval > curval:\n",
    "                    if lcval > rcval: \n",
    "                        self.switchnode(n, lc)\n",
    "                        self.trickle_down(lc)\n",
    "                    else:\n",
    "                        self.switch_node(n, rc)\n",
    "                        self.trickle_down(rc)\n",
    "                \n",
    "            else:\n",
    "                lcval = self.data[lc]\n",
    "                if lcval > curval:\n",
    "                    self.switch_node(n, lc)\n",
    "                    self.trickle_down(lc)\n",
    "\n",
    "        if self.pos_exists(rc): \n",
    "            rcval = self.data[rc]\n",
    "            if lcval > curval:\n",
    "                self.switchnode(n, rc)\n",
    "                self.trickle_down(rc)\n",
    "                    \n",
    "    def trickle_up(self,n):\n",
    "        p = Heap.parent(n)\n",
    "        pval = self.data[p]\n",
    "        curval = self.data[n]\n",
    "        if pval < curval:\n",
    "            self.switch_node(p, n)\n",
    "            self.trickle_up(p)\n",
    "    \n",
    "    def add(self, x):\n",
    "        self.data.append(x)\n",
    "        self.trickle_up(len(self.data) - 1)\n",
    "\n",
    "    \n",
    "    def max(self):\n",
    "        self.data[0]\n",
    "\n",
    "    def pop_max(self):\n",
    "        m = self.data[0]\n",
    "        self.data[0] = self.data[-1]\n",
    "        del self.data[-1]\n",
    "\n",
    "        self.trickle_down(0)\n",
    "\n",
    "        return m\n",
    "\n",
    "    def __bool__(self):\n",
    "        return len(self.data) > 0\n",
    "\n",
    "    def __len__(self):\n",
    "        return len(self.data)\n",
    "\n",
    "    def __repr__(self):\n",
    "        return repr(self.data)"
   ]
  },
  {
   "cell_type": "code",
   "execution_count": 21,
   "metadata": {
    "collapsed": false
   },
   "outputs": [],
   "source": [
    "h = Heap()"
   ]
  },
  {
   "cell_type": "code",
   "execution_count": 22,
   "metadata": {
    "collapsed": false
   },
   "outputs": [],
   "source": [
    "import random\n",
    "for _ in range(10):\n",
    "    h.add(random.randrange(100))"
   ]
  },
  {
   "cell_type": "code",
   "execution_count": 23,
   "metadata": {
    "collapsed": false
   },
   "outputs": [
    {
     "output_type": "execute_result",
     "data": {
      "text/plain": [
       "[6, 90, 88, 88, 21, 32, 14, 26, 83, 7]"
      ]
     },
     "metadata": {},
     "execution_count": 23
    }
   ],
   "source": [
    "h"
   ]
  },
  {
   "cell_type": "code",
   "execution_count": 24,
   "metadata": {
    "collapsed": false
   },
   "outputs": [
    {
     "output_type": "stream",
     "name": "stdout",
     "text": [
      "6\n7\n83\n26\n14\n32\n21\n"
     ]
    },
    {
     "output_type": "error",
     "ename": "IndexError",
     "evalue": "list index out of range",
     "traceback": [
      "\u001b[0;31m---------------------------------------------------------------------------\u001b[0m",
      "\u001b[0;31mIndexError\u001b[0m                                Traceback (most recent call last)",
      "\u001b[0;32m<ipython-input-24-a9e0733d492c>\u001b[0m in \u001b[0;36m<module>\u001b[0;34m\u001b[0m\n\u001b[1;32m      1\u001b[0m \u001b[0;32mwhile\u001b[0m \u001b[0mh\u001b[0m\u001b[0;34m:\u001b[0m\u001b[0;34m\u001b[0m\u001b[0;34m\u001b[0m\u001b[0m\n\u001b[0;32m----> 2\u001b[0;31m     \u001b[0mprint\u001b[0m\u001b[0;34m(\u001b[0m\u001b[0mh\u001b[0m\u001b[0;34m.\u001b[0m\u001b[0mpop_max\u001b[0m\u001b[0;34m(\u001b[0m\u001b[0;34m)\u001b[0m\u001b[0;34m)\u001b[0m\u001b[0;34m\u001b[0m\u001b[0;34m\u001b[0m\u001b[0m\n\u001b[0m",
      "\u001b[0;32m<ipython-input-20-c4c40c3303a3>\u001b[0m in \u001b[0;36mpop_max\u001b[0;34m(self)\u001b[0m\n\u001b[1;32m     77\u001b[0m         \u001b[0;32mdel\u001b[0m \u001b[0mself\u001b[0m\u001b[0;34m.\u001b[0m\u001b[0mdata\u001b[0m\u001b[0;34m[\u001b[0m\u001b[0;34m-\u001b[0m\u001b[0;36m1\u001b[0m\u001b[0;34m]\u001b[0m\u001b[0;34m\u001b[0m\u001b[0;34m\u001b[0m\u001b[0m\n\u001b[1;32m     78\u001b[0m \u001b[0;34m\u001b[0m\u001b[0m\n\u001b[0;32m---> 79\u001b[0;31m         \u001b[0mself\u001b[0m\u001b[0;34m.\u001b[0m\u001b[0mtrickle_down\u001b[0m\u001b[0;34m(\u001b[0m\u001b[0;36m0\u001b[0m\u001b[0;34m)\u001b[0m\u001b[0;34m\u001b[0m\u001b[0;34m\u001b[0m\u001b[0m\n\u001b[0m\u001b[1;32m     80\u001b[0m \u001b[0;34m\u001b[0m\u001b[0m\n\u001b[1;32m     81\u001b[0m         \u001b[0;32mreturn\u001b[0m \u001b[0mm\u001b[0m\u001b[0;34m\u001b[0m\u001b[0;34m\u001b[0m\u001b[0m\n",
      "\u001b[0;32m<ipython-input-20-c4c40c3303a3>\u001b[0m in \u001b[0;36mtrickle_down\u001b[0;34m(self, n)\u001b[0m\n\u001b[1;32m     51\u001b[0m \u001b[0;34m\u001b[0m\u001b[0m\n\u001b[1;32m     52\u001b[0m         \u001b[0;32melif\u001b[0m \u001b[0mself\u001b[0m\u001b[0;34m.\u001b[0m\u001b[0mpos_exists\u001b[0m\u001b[0;34m(\u001b[0m\u001b[0mrc\u001b[0m\u001b[0;34m)\u001b[0m\u001b[0;34m:\u001b[0m\u001b[0;34m\u001b[0m\u001b[0;34m\u001b[0m\u001b[0m\n\u001b[0;32m---> 53\u001b[0;31m             \u001b[0mrcval\u001b[0m \u001b[0;34m=\u001b[0m \u001b[0mself\u001b[0m\u001b[0;34m.\u001b[0m\u001b[0mdata\u001b[0m\u001b[0;34m[\u001b[0m\u001b[0mrc\u001b[0m\u001b[0;34m]\u001b[0m\u001b[0;34m\u001b[0m\u001b[0;34m\u001b[0m\u001b[0m\n\u001b[0m\u001b[1;32m     54\u001b[0m             \u001b[0;32mif\u001b[0m \u001b[0mlcval\u001b[0m \u001b[0;34m>\u001b[0m \u001b[0mcurval\u001b[0m\u001b[0;34m:\u001b[0m\u001b[0;34m\u001b[0m\u001b[0;34m\u001b[0m\u001b[0m\n\u001b[1;32m     55\u001b[0m                 \u001b[0mself\u001b[0m\u001b[0;34m.\u001b[0m\u001b[0mswitchnode\u001b[0m\u001b[0;34m(\u001b[0m\u001b[0mn\u001b[0m\u001b[0;34m,\u001b[0m \u001b[0mrc\u001b[0m\u001b[0;34m)\u001b[0m\u001b[0;34m\u001b[0m\u001b[0;34m\u001b[0m\u001b[0m\n",
      "\u001b[0;31mIndexError\u001b[0m: list index out of range"
     ]
    }
   ],
   "source": [
    "while h:\n",
    "    print(h.pop_max())"
   ]
  },
  {
   "cell_type": "markdown",
   "metadata": {
    "collapsed": false
   },
   "source": [
    "### Run-time Analysis\n",
    "\n"
   ]
  },
  {
   "cell_type": "markdown",
   "metadata": {
    "collapsed": false
   },
   "source": [
    "## 1.  Heapsort\n",
    "\n"
   ]
  },
  {
   "cell_type": "code",
   "execution_count": 1,
   "metadata": {
    "collapsed": false
   },
   "outputs": [],
   "source": [
    "def heapsort(iterable):\n",
    "    heap = Heap()\n",
    "    pass"
   ]
  },
  {
   "cell_type": "code",
   "execution_count": 1,
   "metadata": {
    "collapsed": false
   },
   "outputs": [],
   "source": [
    "import random\n",
    "\n",
    "def pairs(iterable):\n",
    "    it = iter(iterable)\n",
    "    a = next(it)\n",
    "    while True:\n",
    "        b = next(it)\n",
    "        yield a,b\n",
    "        a = b\n",
    "\n",
    "lst = heapsort(random.random() for _ in range(1000))\n",
    "all((a <= b) for a, b in pairs(lst))"
   ]
  },
  {
   "cell_type": "code",
   "execution_count": 1,
   "metadata": {
    "collapsed": false
   },
   "outputs": [],
   "source": [
    "import timeit\n",
    "def time_heapsort(n):\n",
    "    return timeit.timeit('heapsort(rlst)',\n",
    "                         'from __main__ import heapsort; '\n",
    "                         'import random; '\n",
    "                         'rlst = (random.random() for _ in range({}))'.format(n),\n",
    "                         number=1000)"
   ]
  },
  {
   "cell_type": "code",
   "execution_count": 1,
   "metadata": {
    "collapsed": false
   },
   "outputs": [],
   "source": [
    "%matplotlib inline\n",
    "import matplotlib.pyplot as plt\n",
    "import numpy as np\n",
    "\n",
    "ns = np.linspace(100, 10000, 50, dtype=np.int_)\n",
    "plt.plot(ns, [time_heapsort(n) for n in ns], 'r+')\n",
    "plt.show()"
   ]
  },
  {
   "cell_type": "code",
   "execution_count": 1,
   "metadata": {
    "collapsed": false
   },
   "outputs": [],
   "source": [
    "%matplotlib inline\n",
    "import matplotlib.pyplot as plt\n",
    "import numpy as np\n",
    "\n",
    "ns = np.linspace(100, 10000, 50, dtype=np.int_)\n",
    "plt.plot(ns, [time_heapsort(n) for n in ns], 'r+')\n",
    "plt.plot(ns, ns*np.log2(ns)*0.01/10000, 'b') # O(n log n) plot\n",
    "plt.show()"
   ]
  }
 ],
 "metadata": {
  "kernelspec": {
   "argv": [
    "python",
    "-m",
    "ipykernel_launcher",
    "-f",
    "{connection_file}"
   ],
   "display_name": "Python 3",
   "env": null,
   "interrupt_mode": "signal",
   "language": "python",
   "name": "python3"
  },
  "language_info": {
   "codemirror_mode": {
    "name": "ipython",
    "version": 3
   },
   "file_extension": ".py",
   "mimetype": "text/x-python",
   "name": "python",
   "nbconvert_exporter": "python",
   "pygments_lexer": "ipython3",
   "version": "3.9.1-final"
  },
  "name": "priority-queues-demo.ipynb",
  "org": null
 },
 "nbformat": 4,
 "nbformat_minor": 0
}