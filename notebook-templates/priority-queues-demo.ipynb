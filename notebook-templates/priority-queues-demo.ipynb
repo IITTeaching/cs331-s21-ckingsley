{
 "cells": [
  {
   "cell_type": "markdown",
   "metadata": {
    "collapsed": false
   },
   "source": [
    "Priority Queues\n",
    "===============\n",
    "\n"
   ]
  },
  {
   "cell_type": "markdown",
   "metadata": {
    "collapsed": false
   },
   "source": [
    "## Agenda\n",
    "\n"
   ]
  },
  {
   "cell_type": "markdown",
   "metadata": {
    "collapsed": false
   },
   "source": [
    "1.  Motives\n",
    "    - priority queue: stores number (or items that have a value)\n",
    "    - add(item): insert item into the queue\n",
    "    - pop_max() - return and remove item with maximum value\n",
    "    - \n",
    "2.  Naive implementation\n",
    "3.  Heaps\n",
    "    -   Mechanics\n",
    "    -   Implementation\n",
    "    -   Run-time Analysis\n",
    "\n",
    "4.  Heapsort\n",
    "\n"
   ]
  },
  {
   "cell_type": "markdown",
   "metadata": {
    "collapsed": false
   },
   "source": [
    "## 1.  Motives\n",
    "\n"
   ]
  },
  {
   "cell_type": "markdown",
   "metadata": {
    "collapsed": false
   },
   "source": [
    "## 1.  Naive implementation\n",
    "\n"
   ]
  },
  {
   "cell_type": "code",
   "execution_count": 1,
   "metadata": {
    "collapsed": false
   },
   "outputs": [],
   "source": [
    "class PriorityQueue:\n",
    "    def __init__(self):\n",
    "        self.data = []\n",
    "\n",
    "    def add(self, x):\n",
    "        self.data.append(x)\n",
    "        self.data = sorted(self.data)\n",
    "\n",
    "    def max(self):\n",
    "        return self.data[-1]\n",
    "\n",
    "    def pop_max(self):\n",
    "        m = self.data[-1]\n",
    "        del self.data[-1]\n",
    "        return m\n",
    "\n",
    "    def __bool__(self):\n",
    "        return len(self.data) > 0\n",
    "\n",
    "    def __len__(self):\n",
    "        return len(self.data)\n",
    "\n",
    "    def __repr__(self):\n",
    "        return repr(self.data)"
   ]
  },
  {
   "cell_type": "code",
   "execution_count": 2,
   "metadata": {
    "collapsed": false
   },
   "outputs": [],
   "source": [
    "pq = PriorityQueue()"
   ]
  },
  {
   "cell_type": "code",
   "execution_count": 3,
   "metadata": {
    "collapsed": false
   },
   "outputs": [],
   "source": [
    "import random\n",
    "for _ in range(10):\n",
    "    pq.add(random.randrange(100))"
   ]
  },
  {
   "cell_type": "code",
   "execution_count": 4,
   "metadata": {
    "collapsed": false
   },
   "outputs": [
    {
     "output_type": "execute_result",
     "data": {
      "text/plain": [
       "[8, 11, 27, 47, 72, 72, 82, 82, 97, 99]"
      ]
     },
     "metadata": {},
     "execution_count": 4
    }
   ],
   "source": [
    "pq"
   ]
  },
  {
   "cell_type": "code",
   "execution_count": 5,
   "metadata": {
    "collapsed": false
   },
   "outputs": [
    {
     "output_type": "stream",
     "name": "stdout",
     "text": [
      "99\n97\n82\n82\n72\n72\n47\n27\n11\n8\n"
     ]
    }
   ],
   "source": [
    "while pq:\n",
    "    print(pq.pop_max())"
   ]
  },
  {
   "cell_type": "markdown",
   "metadata": {
    "collapsed": false
   },
   "source": [
    "## 1.  Heaps\n",
    "\n"
   ]
  },
  {
   "cell_type": "markdown",
   "metadata": {
    "collapsed": false
   },
   "source": [
    "### Mechanics\n",
    "\n"
   ]
  },
  {
   "cell_type": "markdown",
   "metadata": {
    "collapsed": false
   },
   "source": [
    "### Implementation\n",
    "\n"
   ]
  },
  {
   "cell_type": "code",
   "execution_count": 22,
   "metadata": {
    "collapsed": false
   },
   "outputs": [],
   "source": [
    "class Heap:\n",
    "    def __init__(self):\n",
    "        self.data = []\n",
    "\n",
    "    @staticmethod\n",
    "    def parent(n):\n",
    "        if n % 2 == 0: ##even\n",
    "            return (n-2) // 2\n",
    "        return (n-1) // 2\n",
    "\n",
    "    @staticmethod\n",
    "    def left_child(n):\n",
    "        return 2*n + 1\n",
    "\n",
    "    @staticmethod\n",
    "    def right_child(n):\n",
    "        return 2*n + 2\n",
    "    \n",
    "    \n",
    "    def pos_exists(self, n):\n",
    "        return n < len(self) #shouldn't this be \"<\" ???\n",
    " \n",
    "    def switch_node(self, parent, child):\n",
    "        parentval = self.data[parent]\n",
    "        childval = self.data[child]\n",
    "        self.data[parent] = childval\n",
    "        self.data[child] = parentval\n",
    "    \n",
    "    def trickle_down(self, n):\n",
    "        lc = Heap.left_child(n)\n",
    "        rc = Heap.right_child(n)\n",
    "        curval = self.data[n]\n",
    "        if self.pos_exists(lc): \n",
    "            if self.pos_exists(rc):\n",
    "                lcval = self.data[lc]\n",
    "                rcval = self.data[rc]\n",
    "                \n",
    "                if lcval > curval or rcval > curval:\n",
    "                    if lcval > rcval: \n",
    "                        self.switch_node(n, lc)\n",
    "                        self.trickle_down(lc)\n",
    "                    else:\n",
    "                        self.switch_node(n, rc)\n",
    "                        self.trickle_down(rc)\n",
    "                \n",
    "            else:\n",
    "                lcval = self.data[lc]\n",
    "                if lcval > curval:\n",
    "                    self.switch_node(n, lc)\n",
    "                    self.trickle_down(lc)\n",
    "\n",
    "        if self.pos_exists(rc): \n",
    "            rcval = self.data[rc]\n",
    "            if lcval > curval:\n",
    "                self.switch_node(n, rc)\n",
    "                self.trickle_down(rc)\n",
    "                    \n",
    "    def trickle_up(self,n):\n",
    "        if n>0:\n",
    "            p = Heap.parent(n)\n",
    "            pval = self.data[p]\n",
    "            curval = self.data[n]\n",
    "            if pval < curval:\n",
    "                self.switch_node(p, n)\n",
    "                self.trickle_up(p)\n",
    "    \n",
    "    def add(self, x):\n",
    "        self.data.append(x)\n",
    "        self.trickle_up(len(self.data) - 1)\n",
    "\n",
    "    \n",
    "    def max(self):\n",
    "        self.data[-1]\n",
    "\n",
    "    def pop_max(self):\n",
    "        m = self.data[0]\n",
    "        self.data[0] = self.data[-1]\n",
    "        del self.data[-1]\n",
    "\n",
    "        if len(self.data) > 0:\n",
    "            self.trickle_down(0)\n",
    "\n",
    "        return m\n",
    "\n",
    "    def __bool__(self):\n",
    "        return len(self.data) > 0\n",
    "\n",
    "    def __len__(self):\n",
    "        return len(self.data)\n",
    "\n",
    "    def __repr__(self):\n",
    "        return repr(self.data)"
   ]
  },
  {
   "cell_type": "code",
   "execution_count": 23,
   "metadata": {
    "collapsed": false
   },
   "outputs": [],
   "source": [
    "h = Heap()"
   ]
  },
  {
   "cell_type": "code",
   "execution_count": 24,
   "metadata": {
    "collapsed": false
   },
   "outputs": [
    {
     "output_type": "stream",
     "name": "stdout",
     "text": [
      "[50]\n[50, 22]\n[50, 22, 19]\n[68, 50, 19, 22]\n[89, 68, 19, 22, 50]\n[89, 68, 25, 22, 50, 19]\n[96, 68, 89, 22, 50, 19, 25]\n[96, 68, 89, 29, 50, 19, 25, 22]\n[96, 68, 89, 29, 50, 19, 25, 22, 23]\n[96, 68, 89, 29, 50, 19, 25, 22, 23, 49]\n"
     ]
    }
   ],
   "source": [
    "import random\n",
    "for _ in range(10):\n",
    "    h.add(random.randrange(100))\n",
    "    print(h)"
   ]
  },
  {
   "cell_type": "code",
   "execution_count": 25,
   "metadata": {
    "collapsed": false
   },
   "outputs": [
    {
     "output_type": "execute_result",
     "data": {
      "text/plain": [
       "[96, 68, 89, 29, 50, 19, 25, 22, 23, 49]"
      ]
     },
     "metadata": {},
     "execution_count": 25
    }
   ],
   "source": [
    "h"
   ]
  },
  {
   "cell_type": "code",
   "execution_count": 26,
   "metadata": {
    "collapsed": false
   },
   "outputs": [
    {
     "output_type": "stream",
     "name": "stdout",
     "text": [
      "96\n49\n25\n23\n22\n19\n50\n29\n89\n68\n"
     ]
    }
   ],
   "source": [
    "while h:\n",
    "    print(h.pop_max())"
   ]
  },
  {
   "cell_type": "code",
   "execution_count": 35,
   "metadata": {},
   "outputs": [
    {
     "output_type": "execute_result",
     "data": {
      "text/plain": [
       "[None, 34, 16, 7, 4, 43, 2, 254]"
      ]
     },
     "metadata": {},
     "execution_count": 35
    }
   ],
   "source": [
    "h = Heap()\n",
    "l = [4, 2, 7, 16, 254, 43, 34, 23]\n",
    "for i in l:\n",
    "    h.add(i)\n",
    "s = [None] * len(l)\n",
    "for i in range(-1, -1*len(l) - 1, -1):\n",
    "    s[i] = h.pop_max()\n",
    "s"
   ]
  },
  {
   "cell_type": "markdown",
   "metadata": {
    "collapsed": false
   },
   "source": [
    "### Run-time Analysis\n",
    "- max: O(1)\n",
    "- add: O(logn)\n",
    "- pop_max: O(logn) #from trickling down root\n"
   ]
  },
  {
   "cell_type": "markdown",
   "metadata": {
    "collapsed": false
   },
   "source": [
    "## 1.  Heapsort\n",
    "\n"
   ]
  },
  {
   "cell_type": "code",
   "execution_count": 42,
   "metadata": {
    "collapsed": false
   },
   "outputs": [],
   "source": [
    "def heapsort(iterable):\n",
    "    heap = Heap()\n",
    "    for i in iterable:\n",
    "        heap.add(i)\n",
    "    s = [None] * len(heap)\n",
    "    for i in range(-1, -1*len(s) - 1, -1):\n",
    "        s[i] = heap.pop_max()\n",
    "    return s"
   ]
  },
  {
   "cell_type": "code",
   "execution_count": 43,
   "metadata": {
    "collapsed": false
   },
   "outputs": [
    {
     "output_type": "execute_result",
     "data": {
      "text/plain": [
       "False"
      ]
     },
     "metadata": {},
     "execution_count": 43
    }
   ],
   "source": [
    "import random\n",
    "\n",
    "def pairs(iterable):\n",
    "    it = iter(iterable)\n",
    "    a = next(it)\n",
    "    while True:\n",
    "        b = next(it)\n",
    "        yield a,b\n",
    "        a = b\n",
    "\n",
    "lst = heapsort(random.random() for _ in range(1000))\n",
    "all((a <= b) for a, b in pairs(lst)) #should be true but returns false b/c boris has broken heap implementation..."
   ]
  },
  {
   "cell_type": "code",
   "execution_count": 44,
   "metadata": {
    "collapsed": false
   },
   "outputs": [],
   "source": [
    "import timeit\n",
    "def time_heapsort(n):\n",
    "    return timeit.timeit('heapsort(rlst)',\n",
    "                         'from __main__ import heapsort; '\n",
    "                         'import random; '\n",
    "                         'rlst = (random.random() for _ in range({}))'.format(n),\n",
    "                         number=1000)"
   ]
  },
  {
   "cell_type": "code",
   "execution_count": 45,
   "metadata": {
    "collapsed": false
   },
   "outputs": [
    {
     "output_type": "display_data",
     "data": {
      "text/plain": "<Figure size 432x288 with 1 Axes>",
      "image/svg+xml": "<?xml version=\"1.0\" encoding=\"utf-8\" standalone=\"no\"?>\n<!DOCTYPE svg PUBLIC \"-//W3C//DTD SVG 1.1//EN\"\n  \"http://www.w3.org/Graphics/SVG/1.1/DTD/svg11.dtd\">\n<!-- Created with matplotlib (https://matplotlib.org/) -->\n<svg height=\"248.518125pt\" version=\"1.1\" viewBox=\"0 0 372.791193 248.518125\" width=\"372.791193pt\" xmlns=\"http://www.w3.org/2000/svg\" xmlns:xlink=\"http://www.w3.org/1999/xlink\">\n <metadata>\n  <rdf:RDF xmlns:cc=\"http://creativecommons.org/ns#\" xmlns:dc=\"http://purl.org/dc/elements/1.1/\" xmlns:rdf=\"http://www.w3.org/1999/02/22-rdf-syntax-ns#\">\n   <cc:Work>\n    <dc:type rdf:resource=\"http://purl.org/dc/dcmitype/StillImage\"/>\n    <dc:date>2021-04-15T12:16:52.083335</dc:date>\n    <dc:format>image/svg+xml</dc:format>\n    <dc:creator>\n     <cc:Agent>\n      <dc:title>Matplotlib v3.3.4, https://matplotlib.org/</dc:title>\n     </cc:Agent>\n    </dc:creator>\n   </cc:Work>\n  </rdf:RDF>\n </metadata>\n <defs>\n  <style type=\"text/css\">*{stroke-linecap:butt;stroke-linejoin:round;}</style>\n </defs>\n <g id=\"figure_1\">\n  <g id=\"patch_1\">\n   <path d=\"M 0 248.518125 \nL 372.791193 248.518125 \nL 372.791193 0 \nL 0 0 \nz\n\" style=\"fill:none;\"/>\n  </g>\n  <g id=\"axes_1\">\n   <g id=\"patch_2\">\n    <path d=\"M 30.103125 224.64 \nL 364.903125 224.64 \nL 364.903125 7.2 \nL 30.103125 7.2 \nz\n\" style=\"fill:#ffffff;\"/>\n   </g>\n   <g id=\"matplotlib.axis_1\">\n    <g id=\"xtick_1\">\n     <g id=\"line2d_1\">\n      <defs>\n       <path d=\"M 0 0 \nL 0 3.5 \n\" id=\"mcc441fb8cb\" style=\"stroke:#000000;stroke-width:0.8;\"/>\n      </defs>\n      <g>\n       <use style=\"stroke:#000000;stroke-width:0.8;\" x=\"42.246927\" xlink:href=\"#mcc441fb8cb\" y=\"224.64\"/>\n      </g>\n     </g>\n     <g id=\"text_1\">\n      <!-- 0 -->\n      <g transform=\"translate(39.065677 239.238437)scale(0.1 -0.1)\">\n       <defs>\n        <path d=\"M 31.78125 66.40625 \nQ 24.171875 66.40625 20.328125 58.90625 \nQ 16.5 51.421875 16.5 36.375 \nQ 16.5 21.390625 20.328125 13.890625 \nQ 24.171875 6.390625 31.78125 6.390625 \nQ 39.453125 6.390625 43.28125 13.890625 \nQ 47.125 21.390625 47.125 36.375 \nQ 47.125 51.421875 43.28125 58.90625 \nQ 39.453125 66.40625 31.78125 66.40625 \nz\nM 31.78125 74.21875 \nQ 44.046875 74.21875 50.515625 64.515625 \nQ 56.984375 54.828125 56.984375 36.375 \nQ 56.984375 17.96875 50.515625 8.265625 \nQ 44.046875 -1.421875 31.78125 -1.421875 \nQ 19.53125 -1.421875 13.0625 8.265625 \nQ 6.59375 17.96875 6.59375 36.375 \nQ 6.59375 54.828125 13.0625 64.515625 \nQ 19.53125 74.21875 31.78125 74.21875 \nz\n\" id=\"DejaVuSans-48\"/>\n       </defs>\n       <use xlink:href=\"#DejaVuSans-48\"/>\n      </g>\n     </g>\n    </g>\n    <g id=\"xtick_2\">\n     <g id=\"line2d_2\">\n      <g>\n       <use style=\"stroke:#000000;stroke-width:0.8;\" x=\"103.73453\" xlink:href=\"#mcc441fb8cb\" y=\"224.64\"/>\n      </g>\n     </g>\n     <g id=\"text_2\">\n      <!-- 2000 -->\n      <g transform=\"translate(91.00953 239.238437)scale(0.1 -0.1)\">\n       <defs>\n        <path d=\"M 19.1875 8.296875 \nL 53.609375 8.296875 \nL 53.609375 0 \nL 7.328125 0 \nL 7.328125 8.296875 \nQ 12.9375 14.109375 22.625 23.890625 \nQ 32.328125 33.6875 34.8125 36.53125 \nQ 39.546875 41.84375 41.421875 45.53125 \nQ 43.3125 49.21875 43.3125 52.78125 \nQ 43.3125 58.59375 39.234375 62.25 \nQ 35.15625 65.921875 28.609375 65.921875 \nQ 23.96875 65.921875 18.8125 64.3125 \nQ 13.671875 62.703125 7.8125 59.421875 \nL 7.8125 69.390625 \nQ 13.765625 71.78125 18.9375 73 \nQ 24.125 74.21875 28.421875 74.21875 \nQ 39.75 74.21875 46.484375 68.546875 \nQ 53.21875 62.890625 53.21875 53.421875 \nQ 53.21875 48.921875 51.53125 44.890625 \nQ 49.859375 40.875 45.40625 35.40625 \nQ 44.1875 33.984375 37.640625 27.21875 \nQ 31.109375 20.453125 19.1875 8.296875 \nz\n\" id=\"DejaVuSans-50\"/>\n       </defs>\n       <use xlink:href=\"#DejaVuSans-50\"/>\n       <use x=\"63.623047\" xlink:href=\"#DejaVuSans-48\"/>\n       <use x=\"127.246094\" xlink:href=\"#DejaVuSans-48\"/>\n       <use x=\"190.869141\" xlink:href=\"#DejaVuSans-48\"/>\n      </g>\n     </g>\n    </g>\n    <g id=\"xtick_3\">\n     <g id=\"line2d_3\">\n      <g>\n       <use style=\"stroke:#000000;stroke-width:0.8;\" x=\"165.222133\" xlink:href=\"#mcc441fb8cb\" y=\"224.64\"/>\n      </g>\n     </g>\n     <g id=\"text_3\">\n      <!-- 4000 -->\n      <g transform=\"translate(152.497133 239.238437)scale(0.1 -0.1)\">\n       <defs>\n        <path d=\"M 37.796875 64.3125 \nL 12.890625 25.390625 \nL 37.796875 25.390625 \nz\nM 35.203125 72.90625 \nL 47.609375 72.90625 \nL 47.609375 25.390625 \nL 58.015625 25.390625 \nL 58.015625 17.1875 \nL 47.609375 17.1875 \nL 47.609375 0 \nL 37.796875 0 \nL 37.796875 17.1875 \nL 4.890625 17.1875 \nL 4.890625 26.703125 \nz\n\" id=\"DejaVuSans-52\"/>\n       </defs>\n       <use xlink:href=\"#DejaVuSans-52\"/>\n       <use x=\"63.623047\" xlink:href=\"#DejaVuSans-48\"/>\n       <use x=\"127.246094\" xlink:href=\"#DejaVuSans-48\"/>\n       <use x=\"190.869141\" xlink:href=\"#DejaVuSans-48\"/>\n      </g>\n     </g>\n    </g>\n    <g id=\"xtick_4\">\n     <g id=\"line2d_4\">\n      <g>\n       <use style=\"stroke:#000000;stroke-width:0.8;\" x=\"226.709737\" xlink:href=\"#mcc441fb8cb\" y=\"224.64\"/>\n      </g>\n     </g>\n     <g id=\"text_4\">\n      <!-- 6000 -->\n      <g transform=\"translate(213.984737 239.238437)scale(0.1 -0.1)\">\n       <defs>\n        <path d=\"M 33.015625 40.375 \nQ 26.375 40.375 22.484375 35.828125 \nQ 18.609375 31.296875 18.609375 23.390625 \nQ 18.609375 15.53125 22.484375 10.953125 \nQ 26.375 6.390625 33.015625 6.390625 \nQ 39.65625 6.390625 43.53125 10.953125 \nQ 47.40625 15.53125 47.40625 23.390625 \nQ 47.40625 31.296875 43.53125 35.828125 \nQ 39.65625 40.375 33.015625 40.375 \nz\nM 52.59375 71.296875 \nL 52.59375 62.3125 \nQ 48.875 64.0625 45.09375 64.984375 \nQ 41.3125 65.921875 37.59375 65.921875 \nQ 27.828125 65.921875 22.671875 59.328125 \nQ 17.53125 52.734375 16.796875 39.40625 \nQ 19.671875 43.65625 24.015625 45.921875 \nQ 28.375 48.1875 33.59375 48.1875 \nQ 44.578125 48.1875 50.953125 41.515625 \nQ 57.328125 34.859375 57.328125 23.390625 \nQ 57.328125 12.15625 50.6875 5.359375 \nQ 44.046875 -1.421875 33.015625 -1.421875 \nQ 20.359375 -1.421875 13.671875 8.265625 \nQ 6.984375 17.96875 6.984375 36.375 \nQ 6.984375 53.65625 15.1875 63.9375 \nQ 23.390625 74.21875 37.203125 74.21875 \nQ 40.921875 74.21875 44.703125 73.484375 \nQ 48.484375 72.75 52.59375 71.296875 \nz\n\" id=\"DejaVuSans-54\"/>\n       </defs>\n       <use xlink:href=\"#DejaVuSans-54\"/>\n       <use x=\"63.623047\" xlink:href=\"#DejaVuSans-48\"/>\n       <use x=\"127.246094\" xlink:href=\"#DejaVuSans-48\"/>\n       <use x=\"190.869141\" xlink:href=\"#DejaVuSans-48\"/>\n      </g>\n     </g>\n    </g>\n    <g id=\"xtick_5\">\n     <g id=\"line2d_5\">\n      <g>\n       <use style=\"stroke:#000000;stroke-width:0.8;\" x=\"288.19734\" xlink:href=\"#mcc441fb8cb\" y=\"224.64\"/>\n      </g>\n     </g>\n     <g id=\"text_5\">\n      <!-- 8000 -->\n      <g transform=\"translate(275.47234 239.238437)scale(0.1 -0.1)\">\n       <defs>\n        <path d=\"M 31.78125 34.625 \nQ 24.75 34.625 20.71875 30.859375 \nQ 16.703125 27.09375 16.703125 20.515625 \nQ 16.703125 13.921875 20.71875 10.15625 \nQ 24.75 6.390625 31.78125 6.390625 \nQ 38.8125 6.390625 42.859375 10.171875 \nQ 46.921875 13.96875 46.921875 20.515625 \nQ 46.921875 27.09375 42.890625 30.859375 \nQ 38.875 34.625 31.78125 34.625 \nz\nM 21.921875 38.8125 \nQ 15.578125 40.375 12.03125 44.71875 \nQ 8.5 49.078125 8.5 55.328125 \nQ 8.5 64.0625 14.71875 69.140625 \nQ 20.953125 74.21875 31.78125 74.21875 \nQ 42.671875 74.21875 48.875 69.140625 \nQ 55.078125 64.0625 55.078125 55.328125 \nQ 55.078125 49.078125 51.53125 44.71875 \nQ 48 40.375 41.703125 38.8125 \nQ 48.828125 37.15625 52.796875 32.3125 \nQ 56.78125 27.484375 56.78125 20.515625 \nQ 56.78125 9.90625 50.3125 4.234375 \nQ 43.84375 -1.421875 31.78125 -1.421875 \nQ 19.734375 -1.421875 13.25 4.234375 \nQ 6.78125 9.90625 6.78125 20.515625 \nQ 6.78125 27.484375 10.78125 32.3125 \nQ 14.796875 37.15625 21.921875 38.8125 \nz\nM 18.3125 54.390625 \nQ 18.3125 48.734375 21.84375 45.5625 \nQ 25.390625 42.390625 31.78125 42.390625 \nQ 38.140625 42.390625 41.71875 45.5625 \nQ 45.3125 48.734375 45.3125 54.390625 \nQ 45.3125 60.0625 41.71875 63.234375 \nQ 38.140625 66.40625 31.78125 66.40625 \nQ 25.390625 66.40625 21.84375 63.234375 \nQ 18.3125 60.0625 18.3125 54.390625 \nz\n\" id=\"DejaVuSans-56\"/>\n       </defs>\n       <use xlink:href=\"#DejaVuSans-56\"/>\n       <use x=\"63.623047\" xlink:href=\"#DejaVuSans-48\"/>\n       <use x=\"127.246094\" xlink:href=\"#DejaVuSans-48\"/>\n       <use x=\"190.869141\" xlink:href=\"#DejaVuSans-48\"/>\n      </g>\n     </g>\n    </g>\n    <g id=\"xtick_6\">\n     <g id=\"line2d_6\">\n      <g>\n       <use style=\"stroke:#000000;stroke-width:0.8;\" x=\"349.684943\" xlink:href=\"#mcc441fb8cb\" y=\"224.64\"/>\n      </g>\n     </g>\n     <g id=\"text_6\">\n      <!-- 10000 -->\n      <g transform=\"translate(333.778693 239.238437)scale(0.1 -0.1)\">\n       <defs>\n        <path d=\"M 12.40625 8.296875 \nL 28.515625 8.296875 \nL 28.515625 63.921875 \nL 10.984375 60.40625 \nL 10.984375 69.390625 \nL 28.421875 72.90625 \nL 38.28125 72.90625 \nL 38.28125 8.296875 \nL 54.390625 8.296875 \nL 54.390625 0 \nL 12.40625 0 \nz\n\" id=\"DejaVuSans-49\"/>\n       </defs>\n       <use xlink:href=\"#DejaVuSans-49\"/>\n       <use x=\"63.623047\" xlink:href=\"#DejaVuSans-48\"/>\n       <use x=\"127.246094\" xlink:href=\"#DejaVuSans-48\"/>\n       <use x=\"190.869141\" xlink:href=\"#DejaVuSans-48\"/>\n       <use x=\"254.492188\" xlink:href=\"#DejaVuSans-48\"/>\n      </g>\n     </g>\n    </g>\n   </g>\n   <g id=\"matplotlib.axis_2\">\n    <g id=\"ytick_1\">\n     <g id=\"line2d_7\">\n      <defs>\n       <path d=\"M 0 0 \nL -3.5 0 \n\" id=\"mda007d5217\" style=\"stroke:#000000;stroke-width:0.8;\"/>\n      </defs>\n      <g>\n       <use style=\"stroke:#000000;stroke-width:0.8;\" x=\"30.103125\" xlink:href=\"#mda007d5217\" y=\"215.597937\"/>\n      </g>\n     </g>\n     <g id=\"text_7\">\n      <!-- 0.0 -->\n      <g transform=\"translate(7.2 219.397155)scale(0.1 -0.1)\">\n       <defs>\n        <path d=\"M 10.6875 12.40625 \nL 21 12.40625 \nL 21 0 \nL 10.6875 0 \nz\n\" id=\"DejaVuSans-46\"/>\n       </defs>\n       <use xlink:href=\"#DejaVuSans-48\"/>\n       <use x=\"63.623047\" xlink:href=\"#DejaVuSans-46\"/>\n       <use x=\"95.410156\" xlink:href=\"#DejaVuSans-48\"/>\n      </g>\n     </g>\n    </g>\n    <g id=\"ytick_2\">\n     <g id=\"line2d_8\">\n      <g>\n       <use style=\"stroke:#000000;stroke-width:0.8;\" x=\"30.103125\" xlink:href=\"#mda007d5217\" y=\"171.397674\"/>\n      </g>\n     </g>\n     <g id=\"text_8\">\n      <!-- 0.1 -->\n      <g transform=\"translate(7.2 175.196893)scale(0.1 -0.1)\">\n       <use xlink:href=\"#DejaVuSans-48\"/>\n       <use x=\"63.623047\" xlink:href=\"#DejaVuSans-46\"/>\n       <use x=\"95.410156\" xlink:href=\"#DejaVuSans-49\"/>\n      </g>\n     </g>\n    </g>\n    <g id=\"ytick_3\">\n     <g id=\"line2d_9\">\n      <g>\n       <use style=\"stroke:#000000;stroke-width:0.8;\" x=\"30.103125\" xlink:href=\"#mda007d5217\" y=\"127.197412\"/>\n      </g>\n     </g>\n     <g id=\"text_9\">\n      <!-- 0.2 -->\n      <g transform=\"translate(7.2 130.99663)scale(0.1 -0.1)\">\n       <use xlink:href=\"#DejaVuSans-48\"/>\n       <use x=\"63.623047\" xlink:href=\"#DejaVuSans-46\"/>\n       <use x=\"95.410156\" xlink:href=\"#DejaVuSans-50\"/>\n      </g>\n     </g>\n    </g>\n    <g id=\"ytick_4\">\n     <g id=\"line2d_10\">\n      <g>\n       <use style=\"stroke:#000000;stroke-width:0.8;\" x=\"30.103125\" xlink:href=\"#mda007d5217\" y=\"82.997149\"/>\n      </g>\n     </g>\n     <g id=\"text_10\">\n      <!-- 0.3 -->\n      <g transform=\"translate(7.2 86.796368)scale(0.1 -0.1)\">\n       <defs>\n        <path d=\"M 40.578125 39.3125 \nQ 47.65625 37.796875 51.625 33 \nQ 55.609375 28.21875 55.609375 21.1875 \nQ 55.609375 10.40625 48.1875 4.484375 \nQ 40.765625 -1.421875 27.09375 -1.421875 \nQ 22.515625 -1.421875 17.65625 -0.515625 \nQ 12.796875 0.390625 7.625 2.203125 \nL 7.625 11.71875 \nQ 11.71875 9.328125 16.59375 8.109375 \nQ 21.484375 6.890625 26.8125 6.890625 \nQ 36.078125 6.890625 40.9375 10.546875 \nQ 45.796875 14.203125 45.796875 21.1875 \nQ 45.796875 27.640625 41.28125 31.265625 \nQ 36.765625 34.90625 28.71875 34.90625 \nL 20.21875 34.90625 \nL 20.21875 43.015625 \nL 29.109375 43.015625 \nQ 36.375 43.015625 40.234375 45.921875 \nQ 44.09375 48.828125 44.09375 54.296875 \nQ 44.09375 59.90625 40.109375 62.90625 \nQ 36.140625 65.921875 28.71875 65.921875 \nQ 24.65625 65.921875 20.015625 65.03125 \nQ 15.375 64.15625 9.8125 62.3125 \nL 9.8125 71.09375 \nQ 15.4375 72.65625 20.34375 73.4375 \nQ 25.25 74.21875 29.59375 74.21875 \nQ 40.828125 74.21875 47.359375 69.109375 \nQ 53.90625 64.015625 53.90625 55.328125 \nQ 53.90625 49.265625 50.4375 45.09375 \nQ 46.96875 40.921875 40.578125 39.3125 \nz\n\" id=\"DejaVuSans-51\"/>\n       </defs>\n       <use xlink:href=\"#DejaVuSans-48\"/>\n       <use x=\"63.623047\" xlink:href=\"#DejaVuSans-46\"/>\n       <use x=\"95.410156\" xlink:href=\"#DejaVuSans-51\"/>\n      </g>\n     </g>\n    </g>\n    <g id=\"ytick_5\">\n     <g id=\"line2d_11\">\n      <g>\n       <use style=\"stroke:#000000;stroke-width:0.8;\" x=\"30.103125\" xlink:href=\"#mda007d5217\" y=\"38.796887\"/>\n      </g>\n     </g>\n     <g id=\"text_11\">\n      <!-- 0.4 -->\n      <g transform=\"translate(7.2 42.596105)scale(0.1 -0.1)\">\n       <use xlink:href=\"#DejaVuSans-48\"/>\n       <use x=\"63.623047\" xlink:href=\"#DejaVuSans-46\"/>\n       <use x=\"95.410156\" xlink:href=\"#DejaVuSans-52\"/>\n      </g>\n     </g>\n    </g>\n   </g>\n   <g id=\"line2d_12\">\n    <defs>\n     <path d=\"M -3 0 \nL 3 0 \nM 0 3 \nL 0 -3 \n\" id=\"m5d02fb7325\" style=\"stroke:#ff0000;\"/>\n    </defs>\n    <g clip-path=\"url(#pd56dd9840b)\">\n     <use style=\"fill:#ff0000;stroke:#ff0000;\" x=\"45.321307\" xlink:href=\"#m5d02fb7325\" y=\"214.756364\"/>\n     <use style=\"fill:#ff0000;stroke:#ff0000;\" x=\"51.531555\" xlink:href=\"#m5d02fb7325\" y=\"213.201509\"/>\n     <use style=\"fill:#ff0000;stroke:#ff0000;\" x=\"57.741803\" xlink:href=\"#m5d02fb7325\" y=\"208.590096\"/>\n     <use style=\"fill:#ff0000;stroke:#ff0000;\" x=\"63.952051\" xlink:href=\"#m5d02fb7325\" y=\"208.940383\"/>\n     <use style=\"fill:#ff0000;stroke:#ff0000;\" x=\"70.162299\" xlink:href=\"#m5d02fb7325\" y=\"208.176068\"/>\n     <use style=\"fill:#ff0000;stroke:#ff0000;\" x=\"76.372546\" xlink:href=\"#m5d02fb7325\" y=\"203.872565\"/>\n     <use style=\"fill:#ff0000;stroke:#ff0000;\" x=\"82.582794\" xlink:href=\"#m5d02fb7325\" y=\"201.931915\"/>\n     <use style=\"fill:#ff0000;stroke:#ff0000;\" x=\"88.793042\" xlink:href=\"#m5d02fb7325\" y=\"199.346145\"/>\n     <use style=\"fill:#ff0000;stroke:#ff0000;\" x=\"95.00329\" xlink:href=\"#m5d02fb7325\" y=\"198.417792\"/>\n     <use style=\"fill:#ff0000;stroke:#ff0000;\" x=\"101.213538\" xlink:href=\"#m5d02fb7325\" y=\"196.035269\"/>\n     <use style=\"fill:#ff0000;stroke:#ff0000;\" x=\"107.423786\" xlink:href=\"#m5d02fb7325\" y=\"187.426015\"/>\n     <use style=\"fill:#ff0000;stroke:#ff0000;\" x=\"113.634034\" xlink:href=\"#m5d02fb7325\" y=\"188.801583\"/>\n     <use style=\"fill:#ff0000;stroke:#ff0000;\" x=\"119.844282\" xlink:href=\"#m5d02fb7325\" y=\"185.805689\"/>\n     <use style=\"fill:#ff0000;stroke:#ff0000;\" x=\"126.05453\" xlink:href=\"#m5d02fb7325\" y=\"192.085846\"/>\n     <use style=\"fill:#ff0000;stroke:#ff0000;\" x=\"132.264778\" xlink:href=\"#m5d02fb7325\" y=\"172.510618\"/>\n     <use style=\"fill:#ff0000;stroke:#ff0000;\" x=\"138.475026\" xlink:href=\"#m5d02fb7325\" y=\"165.286399\"/>\n     <use style=\"fill:#ff0000;stroke:#ff0000;\" x=\"144.685274\" xlink:href=\"#m5d02fb7325\" y=\"173.001573\"/>\n     <use style=\"fill:#ff0000;stroke:#ff0000;\" x=\"150.895522\" xlink:href=\"#m5d02fb7325\" y=\"187.032522\"/>\n     <use style=\"fill:#ff0000;stroke:#ff0000;\" x=\"157.10577\" xlink:href=\"#m5d02fb7325\" y=\"177.813987\"/>\n     <use style=\"fill:#ff0000;stroke:#ff0000;\" x=\"163.316018\" xlink:href=\"#m5d02fb7325\" y=\"165.697719\"/>\n     <use style=\"fill:#ff0000;stroke:#ff0000;\" x=\"169.526265\" xlink:href=\"#m5d02fb7325\" y=\"159.554858\"/>\n     <use style=\"fill:#ff0000;stroke:#ff0000;\" x=\"175.736513\" xlink:href=\"#m5d02fb7325\" y=\"148.362118\"/>\n     <use style=\"fill:#ff0000;stroke:#ff0000;\" x=\"181.946761\" xlink:href=\"#m5d02fb7325\" y=\"154.649016\"/>\n     <use style=\"fill:#ff0000;stroke:#ff0000;\" x=\"188.157009\" xlink:href=\"#m5d02fb7325\" y=\"152.424104\"/>\n     <use style=\"fill:#ff0000;stroke:#ff0000;\" x=\"194.367257\" xlink:href=\"#m5d02fb7325\" y=\"152.106286\"/>\n     <use style=\"fill:#ff0000;stroke:#ff0000;\" x=\"200.608249\" xlink:href=\"#m5d02fb7325\" y=\"149.619487\"/>\n     <use style=\"fill:#ff0000;stroke:#ff0000;\" x=\"206.818497\" xlink:href=\"#m5d02fb7325\" y=\"144.274773\"/>\n     <use style=\"fill:#ff0000;stroke:#ff0000;\" x=\"213.028745\" xlink:href=\"#m5d02fb7325\" y=\"149.880489\"/>\n     <use style=\"fill:#ff0000;stroke:#ff0000;\" x=\"219.238993\" xlink:href=\"#m5d02fb7325\" y=\"164.940292\"/>\n     <use style=\"fill:#ff0000;stroke:#ff0000;\" x=\"225.449241\" xlink:href=\"#m5d02fb7325\" y=\"133.188315\"/>\n     <use style=\"fill:#ff0000;stroke:#ff0000;\" x=\"231.659489\" xlink:href=\"#m5d02fb7325\" y=\"170.241856\"/>\n     <use style=\"fill:#ff0000;stroke:#ff0000;\" x=\"237.869737\" xlink:href=\"#m5d02fb7325\" y=\"134.438962\"/>\n     <use style=\"fill:#ff0000;stroke:#ff0000;\" x=\"244.079985\" xlink:href=\"#m5d02fb7325\" y=\"131.149762\"/>\n     <use style=\"fill:#ff0000;stroke:#ff0000;\" x=\"250.290232\" xlink:href=\"#m5d02fb7325\" y=\"127.11623\"/>\n     <use style=\"fill:#ff0000;stroke:#ff0000;\" x=\"256.50048\" xlink:href=\"#m5d02fb7325\" y=\"103.251072\"/>\n     <use style=\"fill:#ff0000;stroke:#ff0000;\" x=\"262.710728\" xlink:href=\"#m5d02fb7325\" y=\"104.323592\"/>\n     <use style=\"fill:#ff0000;stroke:#ff0000;\" x=\"268.920976\" xlink:href=\"#m5d02fb7325\" y=\"76.882411\"/>\n     <use style=\"fill:#ff0000;stroke:#ff0000;\" x=\"275.131224\" xlink:href=\"#m5d02fb7325\" y=\"105.248906\"/>\n     <use style=\"fill:#ff0000;stroke:#ff0000;\" x=\"281.341472\" xlink:href=\"#m5d02fb7325\" y=\"122.557655\"/>\n     <use style=\"fill:#ff0000;stroke:#ff0000;\" x=\"287.55172\" xlink:href=\"#m5d02fb7325\" y=\"110.038925\"/>\n     <use style=\"fill:#ff0000;stroke:#ff0000;\" x=\"293.761968\" xlink:href=\"#m5d02fb7325\" y=\"92.461162\"/>\n     <use style=\"fill:#ff0000;stroke:#ff0000;\" x=\"299.972216\" xlink:href=\"#m5d02fb7325\" y=\"87.857631\"/>\n     <use style=\"fill:#ff0000;stroke:#ff0000;\" x=\"306.182464\" xlink:href=\"#m5d02fb7325\" y=\"83.152108\"/>\n     <use style=\"fill:#ff0000;stroke:#ff0000;\" x=\"312.392712\" xlink:href=\"#m5d02fb7325\" y=\"79.3691\"/>\n     <use style=\"fill:#ff0000;stroke:#ff0000;\" x=\"318.60296\" xlink:href=\"#m5d02fb7325\" y=\"96.830708\"/>\n     <use style=\"fill:#ff0000;stroke:#ff0000;\" x=\"324.813208\" xlink:href=\"#m5d02fb7325\" y=\"75.752689\"/>\n     <use style=\"fill:#ff0000;stroke:#ff0000;\" x=\"331.023456\" xlink:href=\"#m5d02fb7325\" y=\"77.546262\"/>\n     <use style=\"fill:#ff0000;stroke:#ff0000;\" x=\"337.233704\" xlink:href=\"#m5d02fb7325\" y=\"68.066651\"/>\n     <use style=\"fill:#ff0000;stroke:#ff0000;\" x=\"343.443951\" xlink:href=\"#m5d02fb7325\" y=\"125.833281\"/>\n     <use style=\"fill:#ff0000;stroke:#ff0000;\" x=\"349.684943\" xlink:href=\"#m5d02fb7325\" y=\"17.083636\"/>\n    </g>\n   </g>\n   <g id=\"patch_3\">\n    <path d=\"M 30.103125 224.64 \nL 30.103125 7.2 \n\" style=\"fill:none;stroke:#000000;stroke-linecap:square;stroke-linejoin:miter;stroke-width:0.8;\"/>\n   </g>\n   <g id=\"patch_4\">\n    <path d=\"M 364.903125 224.64 \nL 364.903125 7.2 \n\" style=\"fill:none;stroke:#000000;stroke-linecap:square;stroke-linejoin:miter;stroke-width:0.8;\"/>\n   </g>\n   <g id=\"patch_5\">\n    <path d=\"M 30.103125 224.64 \nL 364.903125 224.64 \n\" style=\"fill:none;stroke:#000000;stroke-linecap:square;stroke-linejoin:miter;stroke-width:0.8;\"/>\n   </g>\n   <g id=\"patch_6\">\n    <path d=\"M 30.103125 7.2 \nL 364.903125 7.2 \n\" style=\"fill:none;stroke:#000000;stroke-linecap:square;stroke-linejoin:miter;stroke-width:0.8;\"/>\n   </g>\n  </g>\n </g>\n <defs>\n  <clipPath id=\"pd56dd9840b\">\n   <rect height=\"217.44\" width=\"334.8\" x=\"30.103125\" y=\"7.2\"/>\n  </clipPath>\n </defs>\n</svg>\n",
      "image/png": "[encoded data removed]"
     },
     "metadata": {
      "needs_background": "light"
     }
    }
   ],
   "source": [
    "%matplotlib inline\n",
    "import matplotlib.pyplot as plt\n",
    "import numpy as np\n",
    "\n",
    "ns = np.linspace(100, 10000, 50, dtype=np.int_)\n",
    "plt.plot(ns, [time_heapsort(n) for n in ns], 'r+')\n",
    "plt.show()"
   ]
  },
  {
   "cell_type": "code",
   "execution_count": 46,
   "metadata": {
    "collapsed": false
   },
   "outputs": [
    {
     "output_type": "display_data",
     "data": {
      "text/plain": "<Figure size 432x288 with 1 Axes>",
      "image/svg+xml": "<?xml version=\"1.0\" encoding=\"utf-8\" standalone=\"no\"?>\n<!DOCTYPE svg PUBLIC \"-//W3C//DTD SVG 1.1//EN\"\n  \"http://www.w3.org/Graphics/SVG/1.1/DTD/svg11.dtd\">\n<!-- Created with matplotlib (https://matplotlib.org/) -->\n<svg height=\"251.820828pt\" version=\"1.1\" viewBox=\"0 0 379.153693 251.820828\" width=\"379.153693pt\" xmlns=\"http://www.w3.org/2000/svg\" xmlns:xlink=\"http://www.w3.org/1999/xlink\">\n <metadata>\n  <rdf:RDF xmlns:cc=\"http://creativecommons.org/ns#\" xmlns:dc=\"http://purl.org/dc/elements/1.1/\" xmlns:rdf=\"http://www.w3.org/1999/02/22-rdf-syntax-ns#\">\n   <cc:Work>\n    <dc:type rdf:resource=\"http://purl.org/dc/dcmitype/StillImage\"/>\n    <dc:date>2021-04-15T12:16:59.757221</dc:date>\n    <dc:format>image/svg+xml</dc:format>\n    <dc:creator>\n     <cc:Agent>\n      <dc:title>Matplotlib v3.3.4, https://matplotlib.org/</dc:title>\n     </cc:Agent>\n    </dc:creator>\n   </cc:Work>\n  </rdf:RDF>\n </metadata>\n <defs>\n  <style type=\"text/css\">*{stroke-linecap:butt;stroke-linejoin:round;}</style>\n </defs>\n <g id=\"figure_1\">\n  <g id=\"patch_1\">\n   <path d=\"M 0 251.820828 \nL 379.153693 251.820828 \nL 379.153693 0 \nL 0 0 \nz\n\" style=\"fill:none;\"/>\n  </g>\n  <g id=\"axes_1\">\n   <g id=\"patch_2\">\n    <path d=\"M 36.465625 227.942703 \nL 371.265625 227.942703 \nL 371.265625 10.502703 \nL 36.465625 10.502703 \nz\n\" style=\"fill:#ffffff;\"/>\n   </g>\n   <g id=\"matplotlib.axis_1\">\n    <g id=\"xtick_1\">\n     <g id=\"line2d_1\">\n      <defs>\n       <path d=\"M 0 0 \nL 0 3.5 \n\" id=\"m726a6bf120\" style=\"stroke:#000000;stroke-width:0.8;\"/>\n      </defs>\n      <g>\n       <use style=\"stroke:#000000;stroke-width:0.8;\" x=\"48.609427\" xlink:href=\"#m726a6bf120\" y=\"227.942703\"/>\n      </g>\n     </g>\n     <g id=\"text_1\">\n      <!-- 0 -->\n      <g transform=\"translate(45.428177 242.54114)scale(0.1 -0.1)\">\n       <defs>\n        <path d=\"M 31.78125 66.40625 \nQ 24.171875 66.40625 20.328125 58.90625 \nQ 16.5 51.421875 16.5 36.375 \nQ 16.5 21.390625 20.328125 13.890625 \nQ 24.171875 6.390625 31.78125 6.390625 \nQ 39.453125 6.390625 43.28125 13.890625 \nQ 47.125 21.390625 47.125 36.375 \nQ 47.125 51.421875 43.28125 58.90625 \nQ 39.453125 66.40625 31.78125 66.40625 \nz\nM 31.78125 74.21875 \nQ 44.046875 74.21875 50.515625 64.515625 \nQ 56.984375 54.828125 56.984375 36.375 \nQ 56.984375 17.96875 50.515625 8.265625 \nQ 44.046875 -1.421875 31.78125 -1.421875 \nQ 19.53125 -1.421875 13.0625 8.265625 \nQ 6.59375 17.96875 6.59375 36.375 \nQ 6.59375 54.828125 13.0625 64.515625 \nQ 19.53125 74.21875 31.78125 74.21875 \nz\n\" id=\"DejaVuSans-48\"/>\n       </defs>\n       <use xlink:href=\"#DejaVuSans-48\"/>\n      </g>\n     </g>\n    </g>\n    <g id=\"xtick_2\">\n     <g id=\"line2d_2\">\n      <g>\n       <use style=\"stroke:#000000;stroke-width:0.8;\" x=\"110.09703\" xlink:href=\"#m726a6bf120\" y=\"227.942703\"/>\n      </g>\n     </g>\n     <g id=\"text_2\">\n      <!-- 2000 -->\n      <g transform=\"translate(97.37203 242.54114)scale(0.1 -0.1)\">\n       <defs>\n        <path d=\"M 19.1875 8.296875 \nL 53.609375 8.296875 \nL 53.609375 0 \nL 7.328125 0 \nL 7.328125 8.296875 \nQ 12.9375 14.109375 22.625 23.890625 \nQ 32.328125 33.6875 34.8125 36.53125 \nQ 39.546875 41.84375 41.421875 45.53125 \nQ 43.3125 49.21875 43.3125 52.78125 \nQ 43.3125 58.59375 39.234375 62.25 \nQ 35.15625 65.921875 28.609375 65.921875 \nQ 23.96875 65.921875 18.8125 64.3125 \nQ 13.671875 62.703125 7.8125 59.421875 \nL 7.8125 69.390625 \nQ 13.765625 71.78125 18.9375 73 \nQ 24.125 74.21875 28.421875 74.21875 \nQ 39.75 74.21875 46.484375 68.546875 \nQ 53.21875 62.890625 53.21875 53.421875 \nQ 53.21875 48.921875 51.53125 44.890625 \nQ 49.859375 40.875 45.40625 35.40625 \nQ 44.1875 33.984375 37.640625 27.21875 \nQ 31.109375 20.453125 19.1875 8.296875 \nz\n\" id=\"DejaVuSans-50\"/>\n       </defs>\n       <use xlink:href=\"#DejaVuSans-50\"/>\n       <use x=\"63.623047\" xlink:href=\"#DejaVuSans-48\"/>\n       <use x=\"127.246094\" xlink:href=\"#DejaVuSans-48\"/>\n       <use x=\"190.869141\" xlink:href=\"#DejaVuSans-48\"/>\n      </g>\n     </g>\n    </g>\n    <g id=\"xtick_3\">\n     <g id=\"line2d_3\">\n      <g>\n       <use style=\"stroke:#000000;stroke-width:0.8;\" x=\"171.584633\" xlink:href=\"#m726a6bf120\" y=\"227.942703\"/>\n      </g>\n     </g>\n     <g id=\"text_3\">\n      <!-- 4000 -->\n      <g transform=\"translate(158.859633 242.54114)scale(0.1 -0.1)\">\n       <defs>\n        <path d=\"M 37.796875 64.3125 \nL 12.890625 25.390625 \nL 37.796875 25.390625 \nz\nM 35.203125 72.90625 \nL 47.609375 72.90625 \nL 47.609375 25.390625 \nL 58.015625 25.390625 \nL 58.015625 17.1875 \nL 47.609375 17.1875 \nL 47.609375 0 \nL 37.796875 0 \nL 37.796875 17.1875 \nL 4.890625 17.1875 \nL 4.890625 26.703125 \nz\n\" id=\"DejaVuSans-52\"/>\n       </defs>\n       <use xlink:href=\"#DejaVuSans-52\"/>\n       <use x=\"63.623047\" xlink:href=\"#DejaVuSans-48\"/>\n       <use x=\"127.246094\" xlink:href=\"#DejaVuSans-48\"/>\n       <use x=\"190.869141\" xlink:href=\"#DejaVuSans-48\"/>\n      </g>\n     </g>\n    </g>\n    <g id=\"xtick_4\">\n     <g id=\"line2d_4\">\n      <g>\n       <use style=\"stroke:#000000;stroke-width:0.8;\" x=\"233.072237\" xlink:href=\"#m726a6bf120\" y=\"227.942703\"/>\n      </g>\n     </g>\n     <g id=\"text_4\">\n      <!-- 6000 -->\n      <g transform=\"translate(220.347237 242.54114)scale(0.1 -0.1)\">\n       <defs>\n        <path d=\"M 33.015625 40.375 \nQ 26.375 40.375 22.484375 35.828125 \nQ 18.609375 31.296875 18.609375 23.390625 \nQ 18.609375 15.53125 22.484375 10.953125 \nQ 26.375 6.390625 33.015625 6.390625 \nQ 39.65625 6.390625 43.53125 10.953125 \nQ 47.40625 15.53125 47.40625 23.390625 \nQ 47.40625 31.296875 43.53125 35.828125 \nQ 39.65625 40.375 33.015625 40.375 \nz\nM 52.59375 71.296875 \nL 52.59375 62.3125 \nQ 48.875 64.0625 45.09375 64.984375 \nQ 41.3125 65.921875 37.59375 65.921875 \nQ 27.828125 65.921875 22.671875 59.328125 \nQ 17.53125 52.734375 16.796875 39.40625 \nQ 19.671875 43.65625 24.015625 45.921875 \nQ 28.375 48.1875 33.59375 48.1875 \nQ 44.578125 48.1875 50.953125 41.515625 \nQ 57.328125 34.859375 57.328125 23.390625 \nQ 57.328125 12.15625 50.6875 5.359375 \nQ 44.046875 -1.421875 33.015625 -1.421875 \nQ 20.359375 -1.421875 13.671875 8.265625 \nQ 6.984375 17.96875 6.984375 36.375 \nQ 6.984375 53.65625 15.1875 63.9375 \nQ 23.390625 74.21875 37.203125 74.21875 \nQ 40.921875 74.21875 44.703125 73.484375 \nQ 48.484375 72.75 52.59375 71.296875 \nz\n\" id=\"DejaVuSans-54\"/>\n       </defs>\n       <use xlink:href=\"#DejaVuSans-54\"/>\n       <use x=\"63.623047\" xlink:href=\"#DejaVuSans-48\"/>\n       <use x=\"127.246094\" xlink:href=\"#DejaVuSans-48\"/>\n       <use x=\"190.869141\" xlink:href=\"#DejaVuSans-48\"/>\n      </g>\n     </g>\n    </g>\n    <g id=\"xtick_5\">\n     <g id=\"line2d_5\">\n      <g>\n       <use style=\"stroke:#000000;stroke-width:0.8;\" x=\"294.55984\" xlink:href=\"#m726a6bf120\" y=\"227.942703\"/>\n      </g>\n     </g>\n     <g id=\"text_5\">\n      <!-- 8000 -->\n      <g transform=\"translate(281.83484 242.54114)scale(0.1 -0.1)\">\n       <defs>\n        <path d=\"M 31.78125 34.625 \nQ 24.75 34.625 20.71875 30.859375 \nQ 16.703125 27.09375 16.703125 20.515625 \nQ 16.703125 13.921875 20.71875 10.15625 \nQ 24.75 6.390625 31.78125 6.390625 \nQ 38.8125 6.390625 42.859375 10.171875 \nQ 46.921875 13.96875 46.921875 20.515625 \nQ 46.921875 27.09375 42.890625 30.859375 \nQ 38.875 34.625 31.78125 34.625 \nz\nM 21.921875 38.8125 \nQ 15.578125 40.375 12.03125 44.71875 \nQ 8.5 49.078125 8.5 55.328125 \nQ 8.5 64.0625 14.71875 69.140625 \nQ 20.953125 74.21875 31.78125 74.21875 \nQ 42.671875 74.21875 48.875 69.140625 \nQ 55.078125 64.0625 55.078125 55.328125 \nQ 55.078125 49.078125 51.53125 44.71875 \nQ 48 40.375 41.703125 38.8125 \nQ 48.828125 37.15625 52.796875 32.3125 \nQ 56.78125 27.484375 56.78125 20.515625 \nQ 56.78125 9.90625 50.3125 4.234375 \nQ 43.84375 -1.421875 31.78125 -1.421875 \nQ 19.734375 -1.421875 13.25 4.234375 \nQ 6.78125 9.90625 6.78125 20.515625 \nQ 6.78125 27.484375 10.78125 32.3125 \nQ 14.796875 37.15625 21.921875 38.8125 \nz\nM 18.3125 54.390625 \nQ 18.3125 48.734375 21.84375 45.5625 \nQ 25.390625 42.390625 31.78125 42.390625 \nQ 38.140625 42.390625 41.71875 45.5625 \nQ 45.3125 48.734375 45.3125 54.390625 \nQ 45.3125 60.0625 41.71875 63.234375 \nQ 38.140625 66.40625 31.78125 66.40625 \nQ 25.390625 66.40625 21.84375 63.234375 \nQ 18.3125 60.0625 18.3125 54.390625 \nz\n\" id=\"DejaVuSans-56\"/>\n       </defs>\n       <use xlink:href=\"#DejaVuSans-56\"/>\n       <use x=\"63.623047\" xlink:href=\"#DejaVuSans-48\"/>\n       <use x=\"127.246094\" xlink:href=\"#DejaVuSans-48\"/>\n       <use x=\"190.869141\" xlink:href=\"#DejaVuSans-48\"/>\n      </g>\n     </g>\n    </g>\n    <g id=\"xtick_6\">\n     <g id=\"line2d_6\">\n      <g>\n       <use style=\"stroke:#000000;stroke-width:0.8;\" x=\"356.047443\" xlink:href=\"#m726a6bf120\" y=\"227.942703\"/>\n      </g>\n     </g>\n     <g id=\"text_6\">\n      <!-- 10000 -->\n      <g transform=\"translate(340.141193 242.54114)scale(0.1 -0.1)\">\n       <defs>\n        <path d=\"M 12.40625 8.296875 \nL 28.515625 8.296875 \nL 28.515625 63.921875 \nL 10.984375 60.40625 \nL 10.984375 69.390625 \nL 28.421875 72.90625 \nL 38.28125 72.90625 \nL 38.28125 8.296875 \nL 54.390625 8.296875 \nL 54.390625 0 \nL 12.40625 0 \nz\n\" id=\"DejaVuSans-49\"/>\n       </defs>\n       <use xlink:href=\"#DejaVuSans-49\"/>\n       <use x=\"63.623047\" xlink:href=\"#DejaVuSans-48\"/>\n       <use x=\"127.246094\" xlink:href=\"#DejaVuSans-48\"/>\n       <use x=\"190.869141\" xlink:href=\"#DejaVuSans-48\"/>\n       <use x=\"254.492188\" xlink:href=\"#DejaVuSans-48\"/>\n      </g>\n     </g>\n    </g>\n   </g>\n   <g id=\"matplotlib.axis_2\">\n    <g id=\"ytick_1\">\n     <g id=\"line2d_7\">\n      <defs>\n       <path d=\"M 0 0 \nL -3.5 0 \n\" id=\"m7a4b9517dc\" style=\"stroke:#000000;stroke-width:0.8;\"/>\n      </defs>\n      <g>\n       <use style=\"stroke:#000000;stroke-width:0.8;\" x=\"36.465625\" xlink:href=\"#m7a4b9517dc\" y=\"218.403558\"/>\n      </g>\n     </g>\n     <g id=\"text_7\">\n      <!-- 0.00 -->\n      <g transform=\"translate(7.2 222.202776)scale(0.1 -0.1)\">\n       <defs>\n        <path d=\"M 10.6875 12.40625 \nL 21 12.40625 \nL 21 0 \nL 10.6875 0 \nz\n\" id=\"DejaVuSans-46\"/>\n       </defs>\n       <use xlink:href=\"#DejaVuSans-48\"/>\n       <use x=\"63.623047\" xlink:href=\"#DejaVuSans-46\"/>\n       <use x=\"95.410156\" xlink:href=\"#DejaVuSans-48\"/>\n       <use x=\"159.033203\" xlink:href=\"#DejaVuSans-48\"/>\n      </g>\n     </g>\n    </g>\n    <g id=\"ytick_2\">\n     <g id=\"line2d_8\">\n      <g>\n       <use style=\"stroke:#000000;stroke-width:0.8;\" x=\"36.465625\" xlink:href=\"#m7a4b9517dc\" y=\"192.478015\"/>\n      </g>\n     </g>\n     <g id=\"text_8\">\n      <!-- 0.05 -->\n      <g transform=\"translate(7.2 196.277234)scale(0.1 -0.1)\">\n       <defs>\n        <path d=\"M 10.796875 72.90625 \nL 49.515625 72.90625 \nL 49.515625 64.59375 \nL 19.828125 64.59375 \nL 19.828125 46.734375 \nQ 21.96875 47.46875 24.109375 47.828125 \nQ 26.265625 48.1875 28.421875 48.1875 \nQ 40.625 48.1875 47.75 41.5 \nQ 54.890625 34.8125 54.890625 23.390625 \nQ 54.890625 11.625 47.5625 5.09375 \nQ 40.234375 -1.421875 26.90625 -1.421875 \nQ 22.3125 -1.421875 17.546875 -0.640625 \nQ 12.796875 0.140625 7.71875 1.703125 \nL 7.71875 11.625 \nQ 12.109375 9.234375 16.796875 8.0625 \nQ 21.484375 6.890625 26.703125 6.890625 \nQ 35.15625 6.890625 40.078125 11.328125 \nQ 45.015625 15.765625 45.015625 23.390625 \nQ 45.015625 31 40.078125 35.4375 \nQ 35.15625 39.890625 26.703125 39.890625 \nQ 22.75 39.890625 18.8125 39.015625 \nQ 14.890625 38.140625 10.796875 36.28125 \nz\n\" id=\"DejaVuSans-53\"/>\n       </defs>\n       <use xlink:href=\"#DejaVuSans-48\"/>\n       <use x=\"63.623047\" xlink:href=\"#DejaVuSans-46\"/>\n       <use x=\"95.410156\" xlink:href=\"#DejaVuSans-48\"/>\n       <use x=\"159.033203\" xlink:href=\"#DejaVuSans-53\"/>\n      </g>\n     </g>\n    </g>\n    <g id=\"ytick_3\">\n     <g id=\"line2d_9\">\n      <g>\n       <use style=\"stroke:#000000;stroke-width:0.8;\" x=\"36.465625\" xlink:href=\"#m7a4b9517dc\" y=\"166.552473\"/>\n      </g>\n     </g>\n     <g id=\"text_9\">\n      <!-- 0.10 -->\n      <g transform=\"translate(7.2 170.351692)scale(0.1 -0.1)\">\n       <use xlink:href=\"#DejaVuSans-48\"/>\n       <use x=\"63.623047\" xlink:href=\"#DejaVuSans-46\"/>\n       <use x=\"95.410156\" xlink:href=\"#DejaVuSans-49\"/>\n       <use x=\"159.033203\" xlink:href=\"#DejaVuSans-48\"/>\n      </g>\n     </g>\n    </g>\n    <g id=\"ytick_4\">\n     <g id=\"line2d_10\">\n      <g>\n       <use style=\"stroke:#000000;stroke-width:0.8;\" x=\"36.465625\" xlink:href=\"#m7a4b9517dc\" y=\"140.62693\"/>\n      </g>\n     </g>\n     <g id=\"text_10\">\n      <!-- 0.15 -->\n      <g transform=\"translate(7.2 144.426149)scale(0.1 -0.1)\">\n       <use xlink:href=\"#DejaVuSans-48\"/>\n       <use x=\"63.623047\" xlink:href=\"#DejaVuSans-46\"/>\n       <use x=\"95.410156\" xlink:href=\"#DejaVuSans-49\"/>\n       <use x=\"159.033203\" xlink:href=\"#DejaVuSans-53\"/>\n      </g>\n     </g>\n    </g>\n    <g id=\"ytick_5\">\n     <g id=\"line2d_11\">\n      <g>\n       <use style=\"stroke:#000000;stroke-width:0.8;\" x=\"36.465625\" xlink:href=\"#m7a4b9517dc\" y=\"114.701388\"/>\n      </g>\n     </g>\n     <g id=\"text_11\">\n      <!-- 0.20 -->\n      <g transform=\"translate(7.2 118.500607)scale(0.1 -0.1)\">\n       <use xlink:href=\"#DejaVuSans-48\"/>\n       <use x=\"63.623047\" xlink:href=\"#DejaVuSans-46\"/>\n       <use x=\"95.410156\" xlink:href=\"#DejaVuSans-50\"/>\n       <use x=\"159.033203\" xlink:href=\"#DejaVuSans-48\"/>\n      </g>\n     </g>\n    </g>\n    <g id=\"ytick_6\">\n     <g id=\"line2d_12\">\n      <g>\n       <use style=\"stroke:#000000;stroke-width:0.8;\" x=\"36.465625\" xlink:href=\"#m7a4b9517dc\" y=\"88.775846\"/>\n      </g>\n     </g>\n     <g id=\"text_12\">\n      <!-- 0.25 -->\n      <g transform=\"translate(7.2 92.575065)scale(0.1 -0.1)\">\n       <use xlink:href=\"#DejaVuSans-48\"/>\n       <use x=\"63.623047\" xlink:href=\"#DejaVuSans-46\"/>\n       <use x=\"95.410156\" xlink:href=\"#DejaVuSans-50\"/>\n       <use x=\"159.033203\" xlink:href=\"#DejaVuSans-53\"/>\n      </g>\n     </g>\n    </g>\n    <g id=\"ytick_7\">\n     <g id=\"line2d_13\">\n      <g>\n       <use style=\"stroke:#000000;stroke-width:0.8;\" x=\"36.465625\" xlink:href=\"#m7a4b9517dc\" y=\"62.850303\"/>\n      </g>\n     </g>\n     <g id=\"text_13\">\n      <!-- 0.30 -->\n      <g transform=\"translate(7.2 66.649522)scale(0.1 -0.1)\">\n       <defs>\n        <path d=\"M 40.578125 39.3125 \nQ 47.65625 37.796875 51.625 33 \nQ 55.609375 28.21875 55.609375 21.1875 \nQ 55.609375 10.40625 48.1875 4.484375 \nQ 40.765625 -1.421875 27.09375 -1.421875 \nQ 22.515625 -1.421875 17.65625 -0.515625 \nQ 12.796875 0.390625 7.625 2.203125 \nL 7.625 11.71875 \nQ 11.71875 9.328125 16.59375 8.109375 \nQ 21.484375 6.890625 26.8125 6.890625 \nQ 36.078125 6.890625 40.9375 10.546875 \nQ 45.796875 14.203125 45.796875 21.1875 \nQ 45.796875 27.640625 41.28125 31.265625 \nQ 36.765625 34.90625 28.71875 34.90625 \nL 20.21875 34.90625 \nL 20.21875 43.015625 \nL 29.109375 43.015625 \nQ 36.375 43.015625 40.234375 45.921875 \nQ 44.09375 48.828125 44.09375 54.296875 \nQ 44.09375 59.90625 40.109375 62.90625 \nQ 36.140625 65.921875 28.71875 65.921875 \nQ 24.65625 65.921875 20.015625 65.03125 \nQ 15.375 64.15625 9.8125 62.3125 \nL 9.8125 71.09375 \nQ 15.4375 72.65625 20.34375 73.4375 \nQ 25.25 74.21875 29.59375 74.21875 \nQ 40.828125 74.21875 47.359375 69.109375 \nQ 53.90625 64.015625 53.90625 55.328125 \nQ 53.90625 49.265625 50.4375 45.09375 \nQ 46.96875 40.921875 40.578125 39.3125 \nz\n\" id=\"DejaVuSans-51\"/>\n       </defs>\n       <use xlink:href=\"#DejaVuSans-48\"/>\n       <use x=\"63.623047\" xlink:href=\"#DejaVuSans-46\"/>\n       <use x=\"95.410156\" xlink:href=\"#DejaVuSans-51\"/>\n       <use x=\"159.033203\" xlink:href=\"#DejaVuSans-48\"/>\n      </g>\n     </g>\n    </g>\n    <g id=\"ytick_8\">\n     <g id=\"line2d_14\">\n      <g>\n       <use style=\"stroke:#000000;stroke-width:0.8;\" x=\"36.465625\" xlink:href=\"#m7a4b9517dc\" y=\"36.924761\"/>\n      </g>\n     </g>\n     <g id=\"text_14\">\n      <!-- 0.35 -->\n      <g transform=\"translate(7.2 40.72398)scale(0.1 -0.1)\">\n       <use xlink:href=\"#DejaVuSans-48\"/>\n       <use x=\"63.623047\" xlink:href=\"#DejaVuSans-46\"/>\n       <use x=\"95.410156\" xlink:href=\"#DejaVuSans-51\"/>\n       <use x=\"159.033203\" xlink:href=\"#DejaVuSans-53\"/>\n      </g>\n     </g>\n    </g>\n    <g id=\"ytick_9\">\n     <g id=\"line2d_15\">\n      <g>\n       <use style=\"stroke:#000000;stroke-width:0.8;\" x=\"36.465625\" xlink:href=\"#m7a4b9517dc\" y=\"10.999219\"/>\n      </g>\n     </g>\n     <g id=\"text_15\">\n      <!-- 0.40 -->\n      <g transform=\"translate(7.2 14.798438)scale(0.1 -0.1)\">\n       <use xlink:href=\"#DejaVuSans-48\"/>\n       <use x=\"63.623047\" xlink:href=\"#DejaVuSans-46\"/>\n       <use x=\"95.410156\" xlink:href=\"#DejaVuSans-52\"/>\n       <use x=\"159.033203\" xlink:href=\"#DejaVuSans-48\"/>\n      </g>\n     </g>\n    </g>\n   </g>\n   <g id=\"line2d_16\">\n    <defs>\n     <path d=\"M -3 0 \nL 3 0 \nM 0 3 \nL 0 -3 \n\" id=\"maf4e1afbf2\" style=\"stroke:#ff0000;\"/>\n    </defs>\n    <g clip-path=\"url(#pf1ddfded40)\">\n     <use style=\"fill:#ff0000;stroke:#ff0000;\" x=\"51.683807\" xlink:href=\"#maf4e1afbf2\" y=\"217.470757\"/>\n     <use style=\"fill:#ff0000;stroke:#ff0000;\" x=\"57.894055\" xlink:href=\"#maf4e1afbf2\" y=\"215.263845\"/>\n     <use style=\"fill:#ff0000;stroke:#ff0000;\" x=\"64.104303\" xlink:href=\"#maf4e1afbf2\" y=\"211.571702\"/>\n     <use style=\"fill:#ff0000;stroke:#ff0000;\" x=\"70.314551\" xlink:href=\"#maf4e1afbf2\" y=\"207.515132\"/>\n     <use style=\"fill:#ff0000;stroke:#ff0000;\" x=\"76.524799\" xlink:href=\"#maf4e1afbf2\" y=\"206.811556\"/>\n     <use style=\"fill:#ff0000;stroke:#ff0000;\" x=\"82.735046\" xlink:href=\"#maf4e1afbf2\" y=\"204.043724\"/>\n     <use style=\"fill:#ff0000;stroke:#ff0000;\" x=\"88.945294\" xlink:href=\"#maf4e1afbf2\" y=\"202.30924\"/>\n     <use style=\"fill:#ff0000;stroke:#ff0000;\" x=\"95.155542\" xlink:href=\"#maf4e1afbf2\" y=\"197.266809\"/>\n     <use style=\"fill:#ff0000;stroke:#ff0000;\" x=\"101.36579\" xlink:href=\"#maf4e1afbf2\" y=\"198.224671\"/>\n     <use style=\"fill:#ff0000;stroke:#ff0000;\" x=\"107.576038\" xlink:href=\"#maf4e1afbf2\" y=\"197.629852\"/>\n     <use style=\"fill:#ff0000;stroke:#ff0000;\" x=\"113.786286\" xlink:href=\"#maf4e1afbf2\" y=\"189.24415\"/>\n     <use style=\"fill:#ff0000;stroke:#ff0000;\" x=\"119.996534\" xlink:href=\"#maf4e1afbf2\" y=\"181.06786\"/>\n     <use style=\"fill:#ff0000;stroke:#ff0000;\" x=\"126.206782\" xlink:href=\"#maf4e1afbf2\" y=\"194.617952\"/>\n     <use style=\"fill:#ff0000;stroke:#ff0000;\" x=\"132.41703\" xlink:href=\"#maf4e1afbf2\" y=\"178.798575\"/>\n     <use style=\"fill:#ff0000;stroke:#ff0000;\" x=\"138.627278\" xlink:href=\"#maf4e1afbf2\" y=\"170.629956\"/>\n     <use style=\"fill:#ff0000;stroke:#ff0000;\" x=\"144.837526\" xlink:href=\"#maf4e1afbf2\" y=\"184.325361\"/>\n     <use style=\"fill:#ff0000;stroke:#ff0000;\" x=\"151.047774\" xlink:href=\"#maf4e1afbf2\" y=\"171.456829\"/>\n     <use style=\"fill:#ff0000;stroke:#ff0000;\" x=\"157.258022\" xlink:href=\"#maf4e1afbf2\" y=\"168.358425\"/>\n     <use style=\"fill:#ff0000;stroke:#ff0000;\" x=\"163.46827\" xlink:href=\"#maf4e1afbf2\" y=\"157.524227\"/>\n     <use style=\"fill:#ff0000;stroke:#ff0000;\" x=\"169.678518\" xlink:href=\"#maf4e1afbf2\" y=\"154.726515\"/>\n     <use style=\"fill:#ff0000;stroke:#ff0000;\" x=\"175.888765\" xlink:href=\"#maf4e1afbf2\" y=\"145.895843\"/>\n     <use style=\"fill:#ff0000;stroke:#ff0000;\" x=\"182.099013\" xlink:href=\"#maf4e1afbf2\" y=\"154.755271\"/>\n     <use style=\"fill:#ff0000;stroke:#ff0000;\" x=\"188.309261\" xlink:href=\"#maf4e1afbf2\" y=\"149.855905\"/>\n     <use style=\"fill:#ff0000;stroke:#ff0000;\" x=\"194.519509\" xlink:href=\"#maf4e1afbf2\" y=\"145.658625\"/>\n     <use style=\"fill:#ff0000;stroke:#ff0000;\" x=\"200.729757\" xlink:href=\"#maf4e1afbf2\" y=\"143.410124\"/>\n     <use style=\"fill:#ff0000;stroke:#ff0000;\" x=\"206.970749\" xlink:href=\"#maf4e1afbf2\" y=\"155.454375\"/>\n     <use style=\"fill:#ff0000;stroke:#ff0000;\" x=\"213.180997\" xlink:href=\"#maf4e1afbf2\" y=\"116.219329\"/>\n     <use style=\"fill:#ff0000;stroke:#ff0000;\" x=\"219.391245\" xlink:href=\"#maf4e1afbf2\" y=\"131.800472\"/>\n     <use style=\"fill:#ff0000;stroke:#ff0000;\" x=\"225.601493\" xlink:href=\"#maf4e1afbf2\" y=\"127.018008\"/>\n     <use style=\"fill:#ff0000;stroke:#ff0000;\" x=\"231.811741\" xlink:href=\"#maf4e1afbf2\" y=\"127.433292\"/>\n     <use style=\"fill:#ff0000;stroke:#ff0000;\" x=\"238.021989\" xlink:href=\"#maf4e1afbf2\" y=\"152.497048\"/>\n     <use style=\"fill:#ff0000;stroke:#ff0000;\" x=\"244.232237\" xlink:href=\"#maf4e1afbf2\" y=\"134.725024\"/>\n     <use style=\"fill:#ff0000;stroke:#ff0000;\" x=\"250.442485\" xlink:href=\"#maf4e1afbf2\" y=\"64.815028\"/>\n     <use style=\"fill:#ff0000;stroke:#ff0000;\" x=\"256.652732\" xlink:href=\"#maf4e1afbf2\" y=\"129.686352\"/>\n     <use style=\"fill:#ff0000;stroke:#ff0000;\" x=\"262.86298\" xlink:href=\"#maf4e1afbf2\" y=\"90.305971\"/>\n     <use style=\"fill:#ff0000;stroke:#ff0000;\" x=\"269.073228\" xlink:href=\"#maf4e1afbf2\" y=\"103.186105\"/>\n     <use style=\"fill:#ff0000;stroke:#ff0000;\" x=\"275.283476\" xlink:href=\"#maf4e1afbf2\" y=\"128.40388\"/>\n     <use style=\"fill:#ff0000;stroke:#ff0000;\" x=\"281.493724\" xlink:href=\"#maf4e1afbf2\" y=\"108.174287\"/>\n     <use style=\"fill:#ff0000;stroke:#ff0000;\" x=\"287.703972\" xlink:href=\"#maf4e1afbf2\" y=\"69.17983\"/>\n     <use style=\"fill:#ff0000;stroke:#ff0000;\" x=\"293.91422\" xlink:href=\"#maf4e1afbf2\" y=\"132.724501\"/>\n     <use style=\"fill:#ff0000;stroke:#ff0000;\" x=\"300.124468\" xlink:href=\"#maf4e1afbf2\" y=\"54.84832\"/>\n     <use style=\"fill:#ff0000;stroke:#ff0000;\" x=\"306.334716\" xlink:href=\"#maf4e1afbf2\" y=\"91.792628\"/>\n     <use style=\"fill:#ff0000;stroke:#ff0000;\" x=\"312.544964\" xlink:href=\"#maf4e1afbf2\" y=\"78.204166\"/>\n     <use style=\"fill:#ff0000;stroke:#ff0000;\" x=\"318.755212\" xlink:href=\"#maf4e1afbf2\" y=\"97.504631\"/>\n     <use style=\"fill:#ff0000;stroke:#ff0000;\" x=\"324.96546\" xlink:href=\"#maf4e1afbf2\" y=\"32.050932\"/>\n     <use style=\"fill:#ff0000;stroke:#ff0000;\" x=\"331.175708\" xlink:href=\"#maf4e1afbf2\" y=\"37.395137\"/>\n     <use style=\"fill:#ff0000;stroke:#ff0000;\" x=\"337.385956\" xlink:href=\"#maf4e1afbf2\" y=\"183.317506\"/>\n     <use style=\"fill:#ff0000;stroke:#ff0000;\" x=\"343.596204\" xlink:href=\"#maf4e1afbf2\" y=\"75.214432\"/>\n     <use style=\"fill:#ff0000;stroke:#ff0000;\" x=\"349.806451\" xlink:href=\"#maf4e1afbf2\" y=\"20.386339\"/>\n     <use style=\"fill:#ff0000;stroke:#ff0000;\" x=\"356.047443\" xlink:href=\"#maf4e1afbf2\" y=\"28.689448\"/>\n    </g>\n   </g>\n   <g id=\"line2d_17\">\n    <path clip-path=\"url(#pf1ddfded40)\" d=\"M 51.683807 218.059066 \nL 57.894055 217.113503 \nL 64.104303 216.05753 \nL 70.314551 214.939258 \nL 76.524799 213.777141 \nL 82.735046 212.581126 \nL 88.945294 211.357458 \nL 95.155542 210.110432 \nL 101.36579 208.843185 \nL 107.576038 207.558109 \nL 113.786286 206.257089 \nL 119.996534 204.941649 \nL 126.206782 203.613048 \nL 132.41703 202.27234 \nL 138.627278 200.920425 \nL 144.837526 199.558077 \nL 151.047774 198.18597 \nL 157.258022 196.804696 \nL 163.46827 195.414781 \nL 169.678518 194.016692 \nL 175.888765 192.610848 \nL 182.099013 191.197629 \nL 188.309261 189.777377 \nL 194.519509 188.350406 \nL 200.729757 186.917001 \nL 206.970749 185.470284 \nL 213.180997 184.024751 \nL 219.391245 182.573515 \nL 225.601493 181.116783 \nL 231.811741 179.654748 \nL 238.021989 178.18759 \nL 244.232237 176.715476 \nL 250.442485 175.238565 \nL 256.652732 173.757003 \nL 262.86298 172.270931 \nL 269.073228 170.780477 \nL 275.283476 169.285767 \nL 281.493724 167.786916 \nL 287.703972 166.284035 \nL 293.91422 164.777229 \nL 300.124468 163.266596 \nL 306.334716 161.752233 \nL 312.544964 160.234228 \nL 318.755212 158.712667 \nL 324.96546 157.187632 \nL 331.175708 155.659202 \nL 337.385956 154.12745 \nL 343.596204 152.592448 \nL 349.806451 151.054265 \nL 356.047443 149.505328 \n\" style=\"fill:none;stroke:#0000ff;stroke-linecap:square;stroke-width:1.5;\"/>\n   </g>\n   <g id=\"patch_3\">\n    <path d=\"M 36.465625 227.942703 \nL 36.465625 10.502703 \n\" style=\"fill:none;stroke:#000000;stroke-linecap:square;stroke-linejoin:miter;stroke-width:0.8;\"/>\n   </g>\n   <g id=\"patch_4\">\n    <path d=\"M 371.265625 227.942703 \nL 371.265625 10.502703 \n\" style=\"fill:none;stroke:#000000;stroke-linecap:square;stroke-linejoin:miter;stroke-width:0.8;\"/>\n   </g>\n   <g id=\"patch_5\">\n    <path d=\"M 36.465625 227.942703 \nL 371.265625 227.942703 \n\" style=\"fill:none;stroke:#000000;stroke-linecap:square;stroke-linejoin:miter;stroke-width:0.8;\"/>\n   </g>\n   <g id=\"patch_6\">\n    <path d=\"M 36.465625 10.502703 \nL 371.265625 10.502703 \n\" style=\"fill:none;stroke:#000000;stroke-linecap:square;stroke-linejoin:miter;stroke-width:0.8;\"/>\n   </g>\n  </g>\n </g>\n <defs>\n  <clipPath id=\"pf1ddfded40\">\n   <rect height=\"217.44\" width=\"334.8\" x=\"36.465625\" y=\"10.502703\"/>\n  </clipPath>\n </defs>\n</svg>\n",
      "image/png": "[encoded data removed]"
     },
     "metadata": {
      "needs_background": "light"
     }
    }
   ],
   "source": [
    "%matplotlib inline\n",
    "import matplotlib.pyplot as plt\n",
    "import numpy as np\n",
    "\n",
    "ns = np.linspace(100, 10000, 50, dtype=np.int_)\n",
    "plt.plot(ns, [time_heapsort(n) for n in ns], 'r+')\n",
    "plt.plot(ns, ns*np.log2(ns)*0.01/10000, 'b') # O(n log n) plot\n",
    "plt.show()"
   ]
  }
 ],
 "metadata": {
  "kernelspec": {
   "argv": [
    "python",
    "-m",
    "ipykernel_launcher",
    "-f",
    "{connection_file}"
   ],
   "display_name": "Python 3",
   "env": null,
   "interrupt_mode": "signal",
   "language": "python",
   "name": "python3"
  },
  "language_info": {
   "codemirror_mode": {
    "name": "ipython",
    "version": 3
   },
   "file_extension": ".py",
   "mimetype": "text/x-python",
   "name": "python",
   "nbconvert_exporter": "python",
   "pygments_lexer": "ipython3",
   "version": "3.9.1-final"
  },
  "name": "priority-queues-demo.ipynb",
  "org": null
 },
 "nbformat": 4,
 "nbformat_minor": 0
}